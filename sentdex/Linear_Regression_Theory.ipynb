{
 "cells": [
  {
   "attachments": {},
   "cell_type": "markdown",
   "metadata": {},
   "source": [
    "## Linear Regression Theory\n",
    "\n",
    "It is all about creating a best fit line called a regression line on the datapoints.\n",
    "\n",
    "*Definition of the Best Line:*\n",
    "\n",
    "    y = mx + b -> equation of the regression line/ best-fit-line\n",
    "    \n",
    "<div style=\"text-align: left\"><img src=\"m(slope).png\" width=\"150\" /><br><img src=\"intercept.png\" width=\"150\" /> </div>\n",
    "    \n",
    "    [Least Square fit Method]"
   ]
  },
  {
   "cell_type": "code",
   "execution_count": 17,
   "metadata": {},
   "outputs": [],
   "source": [
    "from statistics import mean\n",
    "import numpy as np\n",
    "import matplotlib.pyplot as plt\n",
    "from matplotlib import style\n",
    "\n",
    "style.use('fivethirtyeight')"
   ]
  },
  {
   "cell_type": "code",
   "execution_count": 31,
   "metadata": {},
   "outputs": [],
   "source": [
    "def best_fit_slope_and_intercept(x,y):\n",
    "    m =( (mean(x)*mean(y) - mean(x*y))/\n",
    "         (mean(x)**2 - mean(x**2)))\n",
    "    b = mean(y) - m*mean(x)\n",
    "    return m,b"
   ]
  },
  {
   "attachments": {},
   "cell_type": "markdown",
   "metadata": {},
   "source": [
    "*Squared Error:(SE)*\n",
    "\n",
    "We take the y of the best fit line and subtract it from the actual y of the data point for that x and square it to get the squared error.\n",
    "\n",
    "*Coefficient of Determination (r squared):*\n",
    "\n",
    "It denotes the accuracy of your regression-line (y-hat) as compared to a horizontal line drawn for mean of y(y-bar). Greater its value, greater the accuracy. \n",
    "\n",
    "<img src=\"graph.png\" width=\"150\" />\n",
    "\n",
    "<img src=\"rsqaure.png\" width=\"150\" />\n",
    "\n",
    "r-squared = 0 when SE(y-hat) = SE(y-bar) i.e. the best fit line is same as the horizontal line"
   ]
  },
  {
   "cell_type": "code",
   "execution_count": 19,
   "metadata": {},
   "outputs": [],
   "source": [
    "def squared_error(ys_orig, ys_line):\n",
    "    return sum((ys_line - ys_orig)**2)"
   ]
  },
  {
   "cell_type": "code",
   "execution_count": 20,
   "metadata": {},
   "outputs": [],
   "source": [
    "def coefficient_of_determination(ys_orig, ys_line):\n",
    "    #defining the mean horizontal line:\n",
    "    y_mean_line = [mean(ys_orig) for y in ys_orig]\n",
    "    \n",
    "    sq_error_regr = squared_error(ys_orig, ys_line)\n",
    "    sq_error_y_mean = squared_error(ys_orig, y_mean_line)\n",
    "    \n",
    "    r_squared = 1 - (sq_error_regr / sq_error_y_mean)\n",
    "    return r_squared"
   ]
  },
  {
   "cell_type": "markdown",
   "metadata": {},
   "source": [
    "Now Applying these functions on a dataset created by us:"
   ]
  },
  {
   "cell_type": "code",
   "execution_count": 21,
   "metadata": {},
   "outputs": [],
   "source": [
    "import random\n",
    "\n",
    "def create_dataset(hm, variance, step=2, correlation = False):\n",
    "    val = 1\n",
    "    ys = []\n",
    "    for i in range(hm):\n",
    "        y = val + random.randrange(-variance, variance)\n",
    "        ys.append(y)\n",
    "        if correlation and correlation == 'pos':\n",
    "            val += step\n",
    "        elif correlation and correlation == 'neg':\n",
    "            val -= step\n",
    "    xs = [i for i in range(len(ys))]\n",
    "            \n",
    "    return np.array(xs, dtype=np.float64), np.array(ys, dtype= np.float64)\n"
   ]
  },
  {
   "cell_type": "code",
   "execution_count": 22,
   "metadata": {},
   "outputs": [],
   "source": [
    "xs, ys = create_dataset(40, 40, 2, correlation = 'pos')"
   ]
  },
  {
   "cell_type": "code",
   "execution_count": 33,
   "metadata": {},
   "outputs": [
    {
     "name": "stdout",
     "output_type": "stream",
     "text": [
      "0.38675088819835624\n"
     ]
    }
   ],
   "source": [
    "#Finding best fit line\n",
    "m,b = best_fit_slope_and_intercept(xs,ys) \n",
    "regression_line = [(m*x)+b for x in xs]\n",
    "\n",
    "#computing coefficient of determination\n",
    "r_squared = coefficient_of_determination(ys, regression_line)\n",
    "print(r_squared)"
   ]
  },
  {
   "cell_type": "code",
   "execution_count": 36,
   "metadata": {},
   "outputs": [],
   "source": [
    "predict_x = 40\n",
    "predict_y = m*predict_x + b"
   ]
  },
  {
   "cell_type": "code",
   "execution_count": 44,
   "metadata": {},
   "outputs": [
    {
     "data": {
      "image/png": "[encoded data removed]",
      "text/plain": [
       "<Figure size 432x288 with 1 Axes>"
      ]
     },
     "metadata": {},
     "output_type": "display_data"
    }
   ],
   "source": [
    "plt.scatter(xs,ys)\n",
    "plt.plot(predict_x, predict_y, marker=\"x\", markersize=10, color ='g')\n",
    "plt.plot(xs,regression_line)\n",
    "plt.show()"
   ]
  },
  {
   "cell_type": "code",
   "execution_count": null,
   "metadata": {},
   "outputs": [],
   "source": []
  }
 ],
 "metadata": {
  "kernelspec": {
   "display_name": "Python 3",
   "language": "python",
   "name": "python3"
  },
  "language_info": {
   "codemirror_mode": {
    "name": "ipython",
    "version": 3
   },
   "file_extension": ".py",
   "mimetype": "text/x-python",
   "name": "python",
   "nbconvert_exporter": "python",
   "pygments_lexer": "ipython3",
   "version": "3.8.5"
  }
 },
 "nbformat": 4,
 "nbformat_minor": 4
}
